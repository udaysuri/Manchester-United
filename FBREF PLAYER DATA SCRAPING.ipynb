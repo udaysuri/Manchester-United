{
 "cells": [
  {
   "cell_type": "code",
   "execution_count": 1,
   "metadata": {},
   "outputs": [],
   "source": [
    "#importing necessary libraries\n",
    "import pandas as pd, numpy as np"
   ]
  },
  {
   "cell_type": "code",
   "execution_count": 2,
   "metadata": {},
   "outputs": [],
   "source": [
    "#import warnings\n",
    "import warnings"
   ]
  },
  {
   "cell_type": "code",
   "execution_count": 3,
   "metadata": {},
   "outputs": [],
   "source": [
    "#reading the required table\n",
    "df = pd.read_html(\"https://widgets.sports-reference.com/wg.fcgi?css=1&site=fb&url=%2Fen%2Fcomps%2F9%2Fstats%2FPremier-League-Stats&div=div_stats_standard\", header=1)\n",
    "df= df[0]"
   ]
  },
  {
   "cell_type": "code",
   "execution_count": 4,
   "metadata": {},
   "outputs": [
    {
     "data": {
      "text/html": [
       "<div>\n",
       "<style scoped>\n",
       "    .dataframe tbody tr th:only-of-type {\n",
       "        vertical-align: middle;\n",
       "    }\n",
       "\n",
       "    .dataframe tbody tr th {\n",
       "        vertical-align: top;\n",
       "    }\n",
       "\n",
       "    .dataframe thead th {\n",
       "        text-align: right;\n",
       "    }\n",
       "</style>\n",
       "<table border=\"1\" class=\"dataframe\">\n",
       "  <thead>\n",
       "    <tr style=\"text-align: right;\">\n",
       "      <th></th>\n",
       "      <th>Rk</th>\n",
       "      <th>Player</th>\n",
       "      <th>Nation</th>\n",
       "      <th>Pos</th>\n",
       "      <th>Squad</th>\n",
       "      <th>Age</th>\n",
       "      <th>Born</th>\n",
       "      <th>MP</th>\n",
       "      <th>Starts</th>\n",
       "      <th>Min</th>\n",
       "      <th>...</th>\n",
       "      <th>xG</th>\n",
       "      <th>npxG</th>\n",
       "      <th>xA</th>\n",
       "      <th>npxG+xA</th>\n",
       "      <th>xG.1</th>\n",
       "      <th>xA.1</th>\n",
       "      <th>xG+xA</th>\n",
       "      <th>npxG.1</th>\n",
       "      <th>npxG+xA.1</th>\n",
       "      <th>Matches</th>\n",
       "    </tr>\n",
       "  </thead>\n",
       "  <tbody>\n",
       "    <tr>\n",
       "      <th>0</th>\n",
       "      <td>1</td>\n",
       "      <td>Patrick van Aanholt</td>\n",
       "      <td>nl NED</td>\n",
       "      <td>DF</td>\n",
       "      <td>Crystal Palace</td>\n",
       "      <td>30-195</td>\n",
       "      <td>1990</td>\n",
       "      <td>17</td>\n",
       "      <td>16</td>\n",
       "      <td>1414</td>\n",
       "      <td>...</td>\n",
       "      <td>1.2</td>\n",
       "      <td>1.2</td>\n",
       "      <td>0.8</td>\n",
       "      <td>2.0</td>\n",
       "      <td>0.08</td>\n",
       "      <td>0.05</td>\n",
       "      <td>0.13</td>\n",
       "      <td>0.08</td>\n",
       "      <td>0.13</td>\n",
       "      <td>Matches</td>\n",
       "    </tr>\n",
       "    <tr>\n",
       "      <th>1</th>\n",
       "      <td>2</td>\n",
       "      <td>Tammy Abraham</td>\n",
       "      <td>eng ENG</td>\n",
       "      <td>FW</td>\n",
       "      <td>Chelsea</td>\n",
       "      <td>23-161</td>\n",
       "      <td>1997</td>\n",
       "      <td>20</td>\n",
       "      <td>12</td>\n",
       "      <td>1021</td>\n",
       "      <td>...</td>\n",
       "      <td>5.6</td>\n",
       "      <td>5.6</td>\n",
       "      <td>0.9</td>\n",
       "      <td>6.5</td>\n",
       "      <td>0.49</td>\n",
       "      <td>0.08</td>\n",
       "      <td>0.57</td>\n",
       "      <td>0.49</td>\n",
       "      <td>0.57</td>\n",
       "      <td>Matches</td>\n",
       "    </tr>\n",
       "    <tr>\n",
       "      <th>2</th>\n",
       "      <td>3</td>\n",
       "      <td>Che Adams</td>\n",
       "      <td>eng ENG</td>\n",
       "      <td>FW</td>\n",
       "      <td>Southampton</td>\n",
       "      <td>24-242</td>\n",
       "      <td>1996</td>\n",
       "      <td>27</td>\n",
       "      <td>23</td>\n",
       "      <td>2075</td>\n",
       "      <td>...</td>\n",
       "      <td>6.1</td>\n",
       "      <td>6.1</td>\n",
       "      <td>4.6</td>\n",
       "      <td>10.7</td>\n",
       "      <td>0.26</td>\n",
       "      <td>0.20</td>\n",
       "      <td>0.46</td>\n",
       "      <td>0.26</td>\n",
       "      <td>0.46</td>\n",
       "      <td>Matches</td>\n",
       "    </tr>\n",
       "    <tr>\n",
       "      <th>3</th>\n",
       "      <td>4</td>\n",
       "      <td>Tosin Adarabioyo</td>\n",
       "      <td>eng ENG</td>\n",
       "      <td>DF</td>\n",
       "      <td>Fulham</td>\n",
       "      <td>23-169</td>\n",
       "      <td>1997</td>\n",
       "      <td>24</td>\n",
       "      <td>24</td>\n",
       "      <td>2160</td>\n",
       "      <td>...</td>\n",
       "      <td>1.0</td>\n",
       "      <td>1.0</td>\n",
       "      <td>0.3</td>\n",
       "      <td>1.3</td>\n",
       "      <td>0.04</td>\n",
       "      <td>0.01</td>\n",
       "      <td>0.05</td>\n",
       "      <td>0.04</td>\n",
       "      <td>0.05</td>\n",
       "      <td>Matches</td>\n",
       "    </tr>\n",
       "    <tr>\n",
       "      <th>4</th>\n",
       "      <td>5</td>\n",
       "      <td>AdriÃ¡n</td>\n",
       "      <td>es ESP</td>\n",
       "      <td>GK</td>\n",
       "      <td>Liverpool</td>\n",
       "      <td>34-068</td>\n",
       "      <td>1987</td>\n",
       "      <td>3</td>\n",
       "      <td>3</td>\n",
       "      <td>270</td>\n",
       "      <td>...</td>\n",
       "      <td>0.0</td>\n",
       "      <td>0.0</td>\n",
       "      <td>0.0</td>\n",
       "      <td>0.0</td>\n",
       "      <td>0.00</td>\n",
       "      <td>0.00</td>\n",
       "      <td>0.00</td>\n",
       "      <td>0.00</td>\n",
       "      <td>0.00</td>\n",
       "      <td>Matches</td>\n",
       "    </tr>\n",
       "  </tbody>\n",
       "</table>\n",
       "<p>5 rows × 33 columns</p>\n",
       "</div>"
      ],
      "text/plain": [
       "  Rk               Player   Nation Pos           Squad     Age  Born  MP  \\\n",
       "0  1  Patrick van Aanholt   nl NED  DF  Crystal Palace  30-195  1990  17   \n",
       "1  2        Tammy Abraham  eng ENG  FW         Chelsea  23-161  1997  20   \n",
       "2  3            Che Adams  eng ENG  FW     Southampton  24-242  1996  27   \n",
       "3  4     Tosin Adarabioyo  eng ENG  DF          Fulham  23-169  1997  24   \n",
       "4  5              AdriÃ¡n   es ESP  GK       Liverpool  34-068  1987   3   \n",
       "\n",
       "  Starts   Min  ...   xG npxG   xA npxG+xA  xG.1  xA.1 xG+xA npxG.1 npxG+xA.1  \\\n",
       "0     16  1414  ...  1.2  1.2  0.8     2.0  0.08  0.05  0.13   0.08      0.13   \n",
       "1     12  1021  ...  5.6  5.6  0.9     6.5  0.49  0.08  0.57   0.49      0.57   \n",
       "2     23  2075  ...  6.1  6.1  4.6    10.7  0.26  0.20  0.46   0.26      0.46   \n",
       "3     24  2160  ...  1.0  1.0  0.3     1.3  0.04  0.01  0.05   0.04      0.05   \n",
       "4      3   270  ...  0.0  0.0  0.0     0.0  0.00  0.00  0.00   0.00      0.00   \n",
       "\n",
       "   Matches  \n",
       "0  Matches  \n",
       "1  Matches  \n",
       "2  Matches  \n",
       "3  Matches  \n",
       "4  Matches  \n",
       "\n",
       "[5 rows x 33 columns]"
      ]
     },
     "execution_count": 4,
     "metadata": {},
     "output_type": "execute_result"
    }
   ],
   "source": [
    "df.head()"
   ]
  },
  {
   "cell_type": "code",
   "execution_count": 5,
   "metadata": {},
   "outputs": [],
   "source": [
    "#dopping unnecessary columns\n",
    "df=df.drop([\"Rk\",\"Age\",\"Matches\"],axis=1)"
   ]
  },
  {
   "cell_type": "code",
   "execution_count": 6,
   "metadata": {},
   "outputs": [
    {
     "data": {
      "text/plain": [
       "Index(['Player', 'Nation', 'Pos', 'Squad', 'Born', 'MP', 'Starts', 'Min',\n",
       "       '90s', 'Gls', 'Ast', 'G-PK', 'PK', 'PKatt', 'CrdY', 'CrdR', 'Gls.1',\n",
       "       'Ast.1', 'G+A', 'G-PK.1', 'G+A-PK', 'xG', 'npxG', 'xA', 'npxG+xA',\n",
       "       'xG.1', 'xA.1', 'xG+xA', 'npxG.1', 'npxG+xA.1'],\n",
       "      dtype='object')"
      ]
     },
     "execution_count": 6,
     "metadata": {},
     "output_type": "execute_result"
    }
   ],
   "source": [
    "df.columns"
   ]
  },
  {
   "cell_type": "code",
   "execution_count": 10,
   "metadata": {},
   "outputs": [],
   "source": [
    "# cleaning the table (header values from each page were showing as row values in our df)\n",
    "df= df[df[\"MP\"]!=\"MP\"]"
   ]
  },
  {
   "cell_type": "code",
   "execution_count": 11,
   "metadata": {},
   "outputs": [],
   "source": [
    "int_cols= [\"MP\",\"Starts\",\"Min\",'Gls', 'Ast', 'G-PK', 'PK', 'PKatt', 'CrdY', 'CrdR']"
   ]
  },
  {
   "cell_type": "code",
   "execution_count": 12,
   "metadata": {},
   "outputs": [],
   "source": [
    "float_cols= [\"90s\",'Gls.1','Ast.1', 'G+A', 'G-PK.1', 'G+A-PK', 'xG', 'npxG', 'xA', 'npxG+xA','xG.1', 'xA.1', 'xG+xA', 'npxG.1', 'npxG+xA.1']"
   ]
  },
  {
   "cell_type": "code",
   "execution_count": 13,
   "metadata": {},
   "outputs": [],
   "source": [
    "#changing dtype\n",
    "df[int_cols]=df[int_cols].astype(int)"
   ]
  },
  {
   "cell_type": "code",
   "execution_count": 14,
   "metadata": {},
   "outputs": [],
   "source": [
    "#changing dtype\n",
    "df[float_cols]=df[float_cols].astype(float)"
   ]
  },
  {
   "cell_type": "code",
   "execution_count": 15,
   "metadata": {},
   "outputs": [
    {
     "name": "stdout",
     "output_type": "stream",
     "text": [
      "<class 'pandas.core.frame.DataFrame'>\n",
      "Int64Index: 507 entries, 0 to 526\n",
      "Data columns (total 30 columns):\n",
      " #   Column     Non-Null Count  Dtype  \n",
      "---  ------     --------------  -----  \n",
      " 0   Player     507 non-null    object \n",
      " 1   Nation     507 non-null    object \n",
      " 2   Pos        507 non-null    object \n",
      " 3   Squad      507 non-null    object \n",
      " 4   Born       507 non-null    object \n",
      " 5   MP         507 non-null    int32  \n",
      " 6   Starts     507 non-null    int32  \n",
      " 7   Min        507 non-null    int32  \n",
      " 8   90s        507 non-null    float64\n",
      " 9   Gls        507 non-null    int32  \n",
      " 10  Ast        507 non-null    int32  \n",
      " 11  G-PK       507 non-null    int32  \n",
      " 12  PK         507 non-null    int32  \n",
      " 13  PKatt      507 non-null    int32  \n",
      " 14  CrdY       507 non-null    int32  \n",
      " 15  CrdR       507 non-null    int32  \n",
      " 16  Gls.1      507 non-null    float64\n",
      " 17  Ast.1      507 non-null    float64\n",
      " 18  G+A        507 non-null    float64\n",
      " 19  G-PK.1     507 non-null    float64\n",
      " 20  G+A-PK     507 non-null    float64\n",
      " 21  xG         507 non-null    float64\n",
      " 22  npxG       507 non-null    float64\n",
      " 23  xA         507 non-null    float64\n",
      " 24  npxG+xA    507 non-null    float64\n",
      " 25  xG.1       507 non-null    float64\n",
      " 26  xA.1       507 non-null    float64\n",
      " 27  xG+xA      507 non-null    float64\n",
      " 28  npxG.1     507 non-null    float64\n",
      " 29  npxG+xA.1  507 non-null    float64\n",
      "dtypes: float64(15), int32(10), object(5)\n",
      "memory usage: 103.0+ KB\n"
     ]
    }
   ],
   "source": [
    "df.info()"
   ]
  },
  {
   "cell_type": "markdown",
   "metadata": {},
   "source": [
    "#### Calculating new fields/columns"
   ]
  },
  {
   "cell_type": "code",
   "execution_count": 16,
   "metadata": {},
   "outputs": [],
   "source": [
    "df[\"Bench\"]= df[\"MP\"]-df[\"Starts\"]"
   ]
  },
  {
   "cell_type": "code",
   "execution_count": 17,
   "metadata": {},
   "outputs": [],
   "source": [
    "df[\"PK_missed\"]=df[\"PKatt\"]-df[\"PK\"]"
   ]
  },
  {
   "cell_type": "code",
   "execution_count": 18,
   "metadata": {},
   "outputs": [
    {
     "data": {
      "text/plain": [
       "32"
      ]
     },
     "execution_count": 18,
     "metadata": {},
     "output_type": "execute_result"
    }
   ],
   "source": [
    "new_cols=['Player', 'Nation', 'Pos', 'Squad', 'Born', 'MP', 'Starts', 'Min',\n",
    "       '90s','Goals', 'Assist', 'Goals-Penalties', 'PK_scored', 'PK_attempted', 'Yellow',\n",
    "       'Red', 'Goals/90', 'Assist/90', 'G+A/90', 'Goals-PK/90',\n",
    "       '(Goals+Assist-PK)/90', 'xG', 'npxG', 'xA', 'npxG+xA', 'xG/90', 'xA/90',\n",
    "       'xG+xA/90', 'npxG/90', '(npxG+xA)/90','Bench','PK_missed']\n",
    "len(new_cols)"
   ]
  },
  {
   "cell_type": "code",
   "execution_count": 19,
   "metadata": {},
   "outputs": [],
   "source": [
    "df= df.rename(columns=dict(zip(df.columns,new_cols)))"
   ]
  },
  {
   "cell_type": "code",
   "execution_count": 20,
   "metadata": {},
   "outputs": [
    {
     "data": {
      "text/html": [
       "<div>\n",
       "<style scoped>\n",
       "    .dataframe tbody tr th:only-of-type {\n",
       "        vertical-align: middle;\n",
       "    }\n",
       "\n",
       "    .dataframe tbody tr th {\n",
       "        vertical-align: top;\n",
       "    }\n",
       "\n",
       "    .dataframe thead th {\n",
       "        text-align: right;\n",
       "    }\n",
       "</style>\n",
       "<table border=\"1\" class=\"dataframe\">\n",
       "  <thead>\n",
       "    <tr style=\"text-align: right;\">\n",
       "      <th></th>\n",
       "      <th>Player</th>\n",
       "      <th>Nation</th>\n",
       "      <th>Pos</th>\n",
       "      <th>Squad</th>\n",
       "      <th>Born</th>\n",
       "      <th>MP</th>\n",
       "      <th>Starts</th>\n",
       "      <th>Min</th>\n",
       "      <th>90s</th>\n",
       "      <th>Goals</th>\n",
       "      <th>...</th>\n",
       "      <th>npxG</th>\n",
       "      <th>xA</th>\n",
       "      <th>npxG+xA</th>\n",
       "      <th>xG/90</th>\n",
       "      <th>xA/90</th>\n",
       "      <th>xG+xA/90</th>\n",
       "      <th>npxG/90</th>\n",
       "      <th>(npxG+xA)/90</th>\n",
       "      <th>Bench</th>\n",
       "      <th>PK_missed</th>\n",
       "    </tr>\n",
       "  </thead>\n",
       "  <tbody>\n",
       "    <tr>\n",
       "      <th>0</th>\n",
       "      <td>Patrick van Aanholt</td>\n",
       "      <td>nl NED</td>\n",
       "      <td>DF</td>\n",
       "      <td>Crystal Palace</td>\n",
       "      <td>1990</td>\n",
       "      <td>17</td>\n",
       "      <td>16</td>\n",
       "      <td>1414</td>\n",
       "      <td>15.7</td>\n",
       "      <td>0</td>\n",
       "      <td>...</td>\n",
       "      <td>1.2</td>\n",
       "      <td>0.8</td>\n",
       "      <td>2.0</td>\n",
       "      <td>0.08</td>\n",
       "      <td>0.05</td>\n",
       "      <td>0.13</td>\n",
       "      <td>0.08</td>\n",
       "      <td>0.13</td>\n",
       "      <td>1</td>\n",
       "      <td>0</td>\n",
       "    </tr>\n",
       "    <tr>\n",
       "      <th>1</th>\n",
       "      <td>Tammy Abraham</td>\n",
       "      <td>eng ENG</td>\n",
       "      <td>FW</td>\n",
       "      <td>Chelsea</td>\n",
       "      <td>1997</td>\n",
       "      <td>20</td>\n",
       "      <td>12</td>\n",
       "      <td>1021</td>\n",
       "      <td>11.3</td>\n",
       "      <td>6</td>\n",
       "      <td>...</td>\n",
       "      <td>5.6</td>\n",
       "      <td>0.9</td>\n",
       "      <td>6.5</td>\n",
       "      <td>0.49</td>\n",
       "      <td>0.08</td>\n",
       "      <td>0.57</td>\n",
       "      <td>0.49</td>\n",
       "      <td>0.57</td>\n",
       "      <td>8</td>\n",
       "      <td>0</td>\n",
       "    </tr>\n",
       "    <tr>\n",
       "      <th>2</th>\n",
       "      <td>Che Adams</td>\n",
       "      <td>eng ENG</td>\n",
       "      <td>FW</td>\n",
       "      <td>Southampton</td>\n",
       "      <td>1996</td>\n",
       "      <td>27</td>\n",
       "      <td>23</td>\n",
       "      <td>2075</td>\n",
       "      <td>23.1</td>\n",
       "      <td>6</td>\n",
       "      <td>...</td>\n",
       "      <td>6.1</td>\n",
       "      <td>4.6</td>\n",
       "      <td>10.7</td>\n",
       "      <td>0.26</td>\n",
       "      <td>0.20</td>\n",
       "      <td>0.46</td>\n",
       "      <td>0.26</td>\n",
       "      <td>0.46</td>\n",
       "      <td>4</td>\n",
       "      <td>0</td>\n",
       "    </tr>\n",
       "    <tr>\n",
       "      <th>3</th>\n",
       "      <td>Tosin Adarabioyo</td>\n",
       "      <td>eng ENG</td>\n",
       "      <td>DF</td>\n",
       "      <td>Fulham</td>\n",
       "      <td>1997</td>\n",
       "      <td>24</td>\n",
       "      <td>24</td>\n",
       "      <td>2160</td>\n",
       "      <td>24.0</td>\n",
       "      <td>0</td>\n",
       "      <td>...</td>\n",
       "      <td>1.0</td>\n",
       "      <td>0.3</td>\n",
       "      <td>1.3</td>\n",
       "      <td>0.04</td>\n",
       "      <td>0.01</td>\n",
       "      <td>0.05</td>\n",
       "      <td>0.04</td>\n",
       "      <td>0.05</td>\n",
       "      <td>0</td>\n",
       "      <td>0</td>\n",
       "    </tr>\n",
       "    <tr>\n",
       "      <th>4</th>\n",
       "      <td>AdriÃ¡n</td>\n",
       "      <td>es ESP</td>\n",
       "      <td>GK</td>\n",
       "      <td>Liverpool</td>\n",
       "      <td>1987</td>\n",
       "      <td>3</td>\n",
       "      <td>3</td>\n",
       "      <td>270</td>\n",
       "      <td>3.0</td>\n",
       "      <td>0</td>\n",
       "      <td>...</td>\n",
       "      <td>0.0</td>\n",
       "      <td>0.0</td>\n",
       "      <td>0.0</td>\n",
       "      <td>0.00</td>\n",
       "      <td>0.00</td>\n",
       "      <td>0.00</td>\n",
       "      <td>0.00</td>\n",
       "      <td>0.00</td>\n",
       "      <td>0</td>\n",
       "      <td>0</td>\n",
       "    </tr>\n",
       "  </tbody>\n",
       "</table>\n",
       "<p>5 rows × 32 columns</p>\n",
       "</div>"
      ],
      "text/plain": [
       "                Player   Nation Pos           Squad  Born  MP  Starts   Min  \\\n",
       "0  Patrick van Aanholt   nl NED  DF  Crystal Palace  1990  17      16  1414   \n",
       "1        Tammy Abraham  eng ENG  FW         Chelsea  1997  20      12  1021   \n",
       "2            Che Adams  eng ENG  FW     Southampton  1996  27      23  2075   \n",
       "3     Tosin Adarabioyo  eng ENG  DF          Fulham  1997  24      24  2160   \n",
       "4              AdriÃ¡n   es ESP  GK       Liverpool  1987   3       3   270   \n",
       "\n",
       "    90s  Goals  ...  npxG   xA  npxG+xA  xG/90  xA/90  xG+xA/90  npxG/90  \\\n",
       "0  15.7      0  ...   1.2  0.8      2.0   0.08   0.05      0.13     0.08   \n",
       "1  11.3      6  ...   5.6  0.9      6.5   0.49   0.08      0.57     0.49   \n",
       "2  23.1      6  ...   6.1  4.6     10.7   0.26   0.20      0.46     0.26   \n",
       "3  24.0      0  ...   1.0  0.3      1.3   0.04   0.01      0.05     0.04   \n",
       "4   3.0      0  ...   0.0  0.0      0.0   0.00   0.00      0.00     0.00   \n",
       "\n",
       "   (npxG+xA)/90  Bench  PK_missed  \n",
       "0          0.13      1          0  \n",
       "1          0.57      8          0  \n",
       "2          0.46      4          0  \n",
       "3          0.05      0          0  \n",
       "4          0.00      0          0  \n",
       "\n",
       "[5 rows x 32 columns]"
      ]
     },
     "execution_count": 20,
     "metadata": {},
     "output_type": "execute_result"
    }
   ],
   "source": [
    "df.head()"
   ]
  },
  {
   "cell_type": "markdown",
   "metadata": {},
   "source": [
    "### Checking the name of the teams in the competition"
   ]
  },
  {
   "cell_type": "code",
   "execution_count": 21,
   "metadata": {},
   "outputs": [
    {
     "data": {
      "text/plain": [
       "array(['Crystal Palace', 'Chelsea', 'Southampton', 'Fulham', 'Liverpool',\n",
       "       'Manchester City', 'Wolves', 'West Brom', 'Leicester City',\n",
       "       'Tottenham', 'Arsenal', 'Leeds United', 'Everton', 'Newcastle Utd',\n",
       "       'Brighton', 'Sheffield Utd', 'West Ham', 'Manchester Utd',\n",
       "       'Burnley', 'Aston Villa'], dtype=object)"
      ]
     },
     "execution_count": 21,
     "metadata": {},
     "output_type": "execute_result"
    }
   ],
   "source": [
    "df[\"Squad\"].unique()"
   ]
  },
  {
   "cell_type": "code",
   "execution_count": 22,
   "metadata": {},
   "outputs": [],
   "source": [
    "# making a list of clubs\n",
    "cols= df[\"Squad\"].unique()"
   ]
  },
  {
   "cell_type": "code",
   "execution_count": 23,
   "metadata": {},
   "outputs": [
    {
     "name": "stdout",
     "output_type": "stream",
     "text": [
      "Crystal Palace\n",
      "Chelsea\n",
      "Southampton\n",
      "Fulham\n",
      "Liverpool\n",
      "Manchester City\n",
      "Wolves\n",
      "West Brom\n",
      "Leicester City\n",
      "Tottenham\n",
      "Arsenal\n",
      "Leeds United\n",
      "Everton\n",
      "Newcastle Utd\n",
      "Brighton\n",
      "Sheffield Utd\n",
      "West Ham\n",
      "Manchester Utd\n",
      "Burnley\n",
      "Aston Villa\n"
     ]
    }
   ],
   "source": [
    "# downloading club-wise csv files using for loop\n",
    "for cols in cols:\n",
    "    df[df[\"Squad\"]== str(cols)].to_csv(str(cols)+\".csv\")\n",
    "    print(cols)"
   ]
  }
 ],
 "metadata": {
  "kernelspec": {
   "display_name": "Python 3",
   "language": "python",
   "name": "python3"
  },
  "language_info": {
   "codemirror_mode": {
    "name": "ipython",
    "version": 3
   },
   "file_extension": ".py",
   "mimetype": "text/x-python",
   "name": "python",
   "nbconvert_exporter": "python",
   "pygments_lexer": "ipython3",
   "version": "3.8.3"
  }
 },
 "nbformat": 4,
 "nbformat_minor": 4
}
